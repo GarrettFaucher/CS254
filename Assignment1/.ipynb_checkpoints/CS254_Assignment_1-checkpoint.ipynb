{
 "cells": [
  {
   "cell_type": "markdown",
   "metadata": {},
   "source": [
    "# Getting Python\n",
    "\n",
    "\n",
    "For this course, we are going to use Jupyter notebook as our environment for developing Python code.\n",
    "refer to https://jupyter.readthedocs.io/en/latest/content-quickstart.html for the instructions on how to install it. The easiest way is to install from Anaconda (https://www.anaconda.com/download/) website, make sure you install with Python 3.7 or above.\n",
    "\n",
    "Also, it is good for the students who are not familiar with python (or they need a quick refreshment) to follow Jim Bagrow tutorial http://bagrow.com/ds1/whirlwindtourpython/00-Title.html. \n",
    "\n",
    "All the assignments need to be written in Python 3.7 or above and can be run using Jupyter on Chrome, Safari or Firefox. These are the browsers that officially supported by jupyter.\n",
    "\n",
    "<u> Note: for this assignment, submit your local copy of this page, running on IPython.The extension of the file is .ipynb. Don't submit if it is not the extention of your file. Submit the file to Blackboard under Assignment1 using this file format:</u> <b>Yourfirstname_lastname_Assignment1.ipynb. Marks might be deducted if you do not follow the submission steps.</b> \n",
    "\n",
    "#### <b>Deadline</b>: <u>Friday, Sep-11-2020 11:59 PM.</u>\n"
   ]
  },
  {
   "cell_type": "markdown",
   "metadata": {},
   "source": [
    "# Assignment 1"
   ]
  },
  {
   "cell_type": "markdown",
   "metadata": {},
   "source": [
    "##### Always import the needed libraries in the first cell as it is a good coding practice"
   ]
  },
  {
   "cell_type": "code",
   "execution_count": 1,
   "metadata": {},
   "outputs": [],
   "source": [
    "import numpy as np \n",
    "import matplotlib.pyplot as plt\n",
    "import pandas as pd"
   ]
  },
  {
   "cell_type": "markdown",
   "metadata": {},
   "source": [
    "# Assignment 1 -- Part 1"
   ]
  },
  {
   "cell_type": "markdown",
   "metadata": {},
   "source": [
    "### Part 1, Q1  --  [8 pts]\n",
    "\n",
    "1. Use the np.linspace function to create a row vector called Points containing exactly 499 values with values evenly spaced between -1 and 1.\n",
    "\n",
    "2. What is the value at index 53?"
   ]
  },
  {
   "cell_type": "code",
   "execution_count": 5,
   "metadata": {},
   "outputs": [
    {
     "data": {
      "text/plain": [
       "-0.7871485943775101"
      ]
     },
     "execution_count": 5,
     "metadata": {},
     "output_type": "execute_result"
    }
   ],
   "source": [
    "points = np.linspace(-1, 1, 499)\n",
    "\n",
    "points[53]"
   ]
  },
  {
   "cell_type": "markdown",
   "metadata": {},
   "source": [
    "### Part 1, Q2  --  [8 pts]\n",
    "\n",
    "For a given array x of 3x3 dimensions, convert this array into a one-dimensional array.\n",
    "\n",
    "Hint 1 :  The output should be [1 2 3 4 5 6 7 8 9].\n",
    "\n",
    "Hint 2: To get the dimension of an array, we use shape property. The dimension of the resulted array should be 1x9.\n"
   ]
  },
  {
   "cell_type": "code",
   "execution_count": 11,
   "metadata": {},
   "outputs": [
    {
     "name": "stdout",
     "output_type": "stream",
     "text": [
      "(3, 3)\n"
     ]
    },
    {
     "data": {
      "text/plain": [
       "array([[1, 2, 3, 4, 5, 6, 7, 8, 9]])"
      ]
     },
     "execution_count": 11,
     "metadata": {},
     "output_type": "execute_result"
    }
   ],
   "source": [
    "x = np.array([[1, 2, 3], [4, 5, 6],[7, 8, 9]])\n",
    "print(x.shape)\n",
    "\n",
    "#Your code here\n",
    "\n",
    "x.reshape(1, 9)"
   ]
  },
  {
   "cell_type": "markdown",
   "metadata": {},
   "source": [
    "### Part 1, Q3  --  [8 pts]\n",
    "\n",
    "Create an 10 x 10 array of zeros and then \"frame\" it with a border of ones(The framed array's size should be 10x10)."
   ]
  },
  {
   "cell_type": "code",
   "execution_count": 11,
   "metadata": {},
   "outputs": [
    {
     "data": {
      "text/plain": [
       "array([[1., 1., 1., 1., 1., 1., 1., 1., 1., 1.],\n",
       "       [1., 0., 0., 0., 0., 0., 0., 0., 0., 1.],\n",
       "       [1., 0., 0., 0., 0., 0., 0., 0., 0., 1.],\n",
       "       [1., 0., 0., 0., 0., 0., 0., 0., 0., 1.],\n",
       "       [1., 0., 0., 0., 0., 0., 0., 0., 0., 1.],\n",
       "       [1., 0., 0., 0., 0., 0., 0., 0., 0., 1.],\n",
       "       [1., 0., 0., 0., 0., 0., 0., 0., 0., 1.],\n",
       "       [1., 0., 0., 0., 0., 0., 0., 0., 0., 1.],\n",
       "       [1., 0., 0., 0., 0., 0., 0., 0., 0., 1.],\n",
       "       [1., 1., 1., 1., 1., 1., 1., 1., 1., 1.]])"
      ]
     },
     "execution_count": 11,
     "metadata": {},
     "output_type": "execute_result"
    }
   ],
   "source": [
    "arr = np.ones((10,10))\n",
    "arr[1:-1, 1:-1] = 0\n",
    "arr"
   ]
  },
  {
   "cell_type": "markdown",
   "metadata": {},
   "source": [
    "### Part 1, Q4  --  [8 pts]\n",
    "\n",
    "\n",
    "Create an 8 x 8 array with a checkerboard pattern of zeros and ones using for loop or vstack.\n",
    "The expected output is given below:\n",
    "      <h4> [[1, 0, 1, 0, 1, 0, 1, 0],</h4>\n",
    "      <h4> [0, 1, 0, 1, 0, 1, 0, 1], </h4>\n",
    "      <h4> [1, 0, 1, 0, 1, 0, 1, 0], </h4>\n",
    "      <h4> [0, 1, 0, 1, 0, 1, 0, 1], </h4>\n",
    "      <h4> [1, 0, 1, 0, 1, 0, 1, 0], </h4>\n",
    "      <h4> [0, 1, 0, 1, 0, 1, 0, 1], </h4>\n",
    "      <h4> [1, 0, 1, 0, 1, 0, 1, 0], </h4>\n",
    "      <h4> [0, 1, 0, 1, 0, 1, 0, 1]] </h4>\n",
    "      \n",
    "      "
   ]
  },
  {
   "cell_type": "code",
   "execution_count": 2,
   "metadata": {},
   "outputs": [
    {
     "data": {
      "text/plain": [
       "array([[1, 0, 1, 0, 1, 0, 1, 0],\n",
       "       [0, 1, 0, 1, 0, 1, 0, 1],\n",
       "       [1, 0, 1, 0, 1, 0, 1, 0],\n",
       "       [0, 1, 0, 1, 0, 1, 0, 1],\n",
       "       [1, 0, 1, 0, 1, 0, 1, 0],\n",
       "       [0, 1, 0, 1, 0, 1, 0, 1],\n",
       "       [1, 0, 1, 0, 1, 0, 1, 0],\n",
       "       [0, 1, 0, 1, 0, 1, 0, 1]])"
      ]
     },
     "execution_count": 2,
     "metadata": {},
     "output_type": "execute_result"
    }
   ],
   "source": [
    "arr = np.ones((8,8), dtype = int)\n",
    "switcher = False\n",
    "\n",
    "for i in range(len(arr)):\n",
    "    for j in range(len(arr)):\n",
    "        if switcher:\n",
    "            arr[i][j] = 0\n",
    "        switcher = not switcher\n",
    "    switcher = not switcher\n",
    " \n",
    "arr"
   ]
  },
  {
   "cell_type": "markdown",
   "metadata": {},
   "source": [
    "### Part 1, Q5  --  [8 pts]\n",
    "\n",
    "Create a function which creates an n×n array with the value of (i,j)-entry equal to i+j.Here i is the index of row and j is the index of column. For example, if the index of i is 2 and the index of j is 5, then, the value of i+j will be 7."
   ]
  },
  {
   "cell_type": "code",
   "execution_count": 14,
   "metadata": {},
   "outputs": [
    {
     "data": {
      "text/plain": [
       "array([[ 0,  1,  2,  3,  4,  5],\n",
       "       [ 1,  2,  3,  4,  5,  6],\n",
       "       [ 2,  3,  4,  5,  6,  7],\n",
       "       [ 3,  4,  5,  6,  7,  8],\n",
       "       [ 4,  5,  6,  7,  8,  9],\n",
       "       [ 5,  6,  7,  8,  9, 10]])"
      ]
     },
     "execution_count": 14,
     "metadata": {},
     "output_type": "execute_result"
    }
   ],
   "source": [
    "# TODO Revisit this prob\n",
    "# Should (0,0) be 0, 1, or 2\n",
    "\n",
    "n = 6\n",
    "\n",
    "arr = np.zeros(shape=(n,n), dtype=int)\n",
    "for i in range(len(arr)):\n",
    "    for j in range(len(arr)):\n",
    "        arr[i][j] = i+j\n",
    "\n",
    "arr"
   ]
  },
  {
   "cell_type": "markdown",
   "metadata": {},
   "source": [
    "### Part 1, Q6  --  [8 pts]\n",
    "\n",
    "\n",
    "Define a matrix(2D array) of 100x100 and initialize this matrix by its row index. After that, define a vector(1D array) of length 100 and initialize this vector by the index of the element.\n",
    "\n",
    "Now, Use the dot function on a vector-vector, matrix-vector and matrix-matrix example. you can define your own dot function or use any build in functions. Dot function should peform dot product of two arrays (in this case between 2D and 1D array).\n",
    "\n",
    "Hint: One way of doing this is to use np.dot() function.\n",
    "You can have a look at this link: https://docs.scipy.org/doc/numpy/reference/generated/numpy.dot.html"
   ]
  },
  {
   "cell_type": "code",
   "execution_count": 33,
   "metadata": {},
   "outputs": [
    {
     "data": {
      "text/plain": [
       "array([     0,   4950,   9900,  14850,  19800,  24750,  29700,  34650,\n",
       "        39600,  44550,  49500,  54450,  59400,  64350,  69300,  74250,\n",
       "        79200,  84150,  89100,  94050,  99000, 103950, 108900, 113850,\n",
       "       118800, 123750, 128700, 133650, 138600, 143550, 148500, 153450,\n",
       "       158400, 163350, 168300, 173250, 178200, 183150, 188100, 193050,\n",
       "       198000, 202950, 207900, 212850, 217800, 222750, 227700, 232650,\n",
       "       237600, 242550, 247500, 252450, 257400, 262350, 267300, 272250,\n",
       "       277200, 282150, 287100, 292050, 297000, 301950, 306900, 311850,\n",
       "       316800, 321750, 326700, 331650, 336600, 341550, 346500, 351450,\n",
       "       356400, 361350, 366300, 371250, 376200, 381150, 386100, 391050,\n",
       "       396000, 400950, 405900, 410850, 415800, 420750, 425700, 430650,\n",
       "       435600, 440550, 445500, 450450, 455400, 460350, 465300, 470250,\n",
       "       475200, 480150, 485100, 490050])"
      ]
     },
     "execution_count": 33,
     "metadata": {},
     "output_type": "execute_result"
    }
   ],
   "source": [
    "two_d = np.indices((100, 100))[0]\n",
    "one_d = np.linspace(0, 99, 100, dtype = int)\n",
    "dot_prod = np.dot(two_d, one_d)\n",
    "\n",
    "dot_prod"
   ]
  },
  {
   "cell_type": "markdown",
   "metadata": {},
   "source": [
    "### Part 1, Q7  --  [8 pts]\n",
    "\n",
    " For a given random 3x5 array using the np.random.randint() function,\n",
    " compute (without using for loop): the sum of all the entries, the sum of the rows and the sum of the columns. "
   ]
  },
  {
   "cell_type": "code",
   "execution_count": 58,
   "metadata": {},
   "outputs": [
    {
     "name": "stdout",
     "output_type": "stream",
     "text": [
      "All Entries: 388\n",
      "Rows: [ 88 125 175]\n",
      "Cols: [ 96  71  36  74 111]\n"
     ]
    }
   ],
   "source": [
    "arr = np.random.randint(50, size=(3, 5))\n",
    "\n",
    "all_entries = np.sum(arr)\n",
    "sum_row = np.sum(arr, axis=1)\n",
    "sum_col = np.sum(arr, axis=0)\n",
    "\n",
    "\n",
    "print(\"All Entries: \" + str(all_entries))\n",
    "print(\"Rows: \" + str(sum_row))\n",
    "print(\"Cols: \" + str(sum_col))"
   ]
  },
  {
   "cell_type": "markdown",
   "metadata": {},
   "source": [
    "### Part 1, Q8  --  [8 pts]\n",
    "In this question, a 5x5 array has been created using np.random.randint(). The goal is to sort(ascending) all the rows using the second column. To be more precise,to sort the rows, we will use the values from column 2.\n",
    "Lets say you have an array like below:\n",
    "\n",
    "[[46 36 40 40 25]\n",
    "\n",
    " [43  3 17 23  4]\n",
    " \n",
    " [43 39  7  9  4]\n",
    " \n",
    " After the sorting, you will have output like below:\n",
    " \n",
    " [43  3 17 23  4]\n",
    " \n",
    " [46 36 40 40 25]\n",
    " \n",
    " [43 39  7  9  4]\n",
    " \n",
    "\n",
    "Hint: You can use argsort function. It is just a way. You can follow other way if you want."
   ]
  },
  {
   "cell_type": "code",
   "execution_count": null,
   "metadata": {},
   "outputs": [],
   "source": [
    "x = np.random.randint(50, size=(5, 5))\n",
    "\n",
    "print('Unsorted:\\n{}\\n'.format(x))\n",
    "#Your code here\n",
    "\n",
    "\n",
    "#--------------------\n",
    "print('Rows sorted by the second column:\\n{}'.format(x))"
   ]
  },
  {
   "cell_type": "markdown",
   "metadata": {},
   "source": [
    "# Assignment 1 -- Part 2\n",
    "For part 2, you will be using the Breast Cancer Wisconsin (Diagnostic) Database to create a classifier that can help diagnose patients. First, read through the description of the dataset (below)."
   ]
  },
  {
   "cell_type": "code",
   "execution_count": null,
   "metadata": {},
   "outputs": [],
   "source": [
    "from sklearn.datasets import load_breast_cancer"
   ]
  },
  {
   "cell_type": "markdown",
   "metadata": {},
   "source": [
    "The object returned by load_breast_cancer() is a scikit-learn Bunch object, which is similar to a dictionary, for information about dictionary refer to http://bagrow.com/ds1/whirlwindtourpython/07-Built-in-Data-Structures.html"
   ]
  },
  {
   "cell_type": "code",
   "execution_count": null,
   "metadata": {},
   "outputs": [],
   "source": [
    "cancer = load_breast_cancer()\n",
    "cancer.keys()"
   ]
  },
  {
   "cell_type": "code",
   "execution_count": null,
   "metadata": {},
   "outputs": [],
   "source": [
    "cancer['data']"
   ]
  },
  {
   "cell_type": "code",
   "execution_count": null,
   "metadata": {},
   "outputs": [],
   "source": [
    "cancer['target_names']"
   ]
  },
  {
   "cell_type": "code",
   "execution_count": null,
   "metadata": {},
   "outputs": [],
   "source": [
    "cancer['feature_names']"
   ]
  },
  {
   "cell_type": "code",
   "execution_count": null,
   "metadata": {},
   "outputs": [],
   "source": [
    "cancer['target']"
   ]
  },
  {
   "cell_type": "markdown",
   "metadata": {},
   "source": [
    "### Part 2, Q1  --  [8 pts]\n",
    "How many features does the breast cancer dataset have? \n",
    "Hint :This function should return an integer."
   ]
  },
  {
   "cell_type": "code",
   "execution_count": null,
   "metadata": {},
   "outputs": [],
   "source": [
    "#Your code here\n"
   ]
  },
  {
   "cell_type": "markdown",
   "metadata": {},
   "source": [
    "### Part 2, Q2  --  [7 pts]\n",
    "\n",
    "Scikit-learn is machine learning library for the Python programming language. It uses dataframe as a primary data container just like excel uses csv. hence, you need to convert the sklearn.dataset to DataFrame.\n",
    "\n",
    "Convert the sklearn.dataset cancer to a DataFrame.\n",
    "\n",
    "Hint: This function should return a (569, 31) DataFrame with\n",
    "columns =\n",
    "\n",
    "['mean radius', 'mean texture', 'mean perimeter', 'mean area',\n",
    "'mean smoothness', 'mean compactness', 'mean concavity',\n",
    "'mean concave points', 'mean symmetry', 'mean fractal dimension',\n",
    "'radius error', 'texture error', 'perimeter error', 'area error',\n",
    "'smoothness error', 'compactness error', 'concavity error',\n",
    "'concave points error', 'symmetry error', 'fractal dimension error',\n",
    "'worst radius', 'worst texture', 'worst perimeter', 'worst area',\n",
    "'worst smoothness', 'worst compactness', 'worst concavity',\n",
    "'worst concave points', 'worst symmetry', 'worst fractal dimension',\n",
    "'target']"
   ]
  },
  {
   "cell_type": "code",
   "execution_count": null,
   "metadata": {},
   "outputs": [],
   "source": [
    "#Your code here\n"
   ]
  },
  {
   "cell_type": "markdown",
   "metadata": {},
   "source": [
    "### Part 2, Q3  --  [7 pts]\n",
    "\n",
    "What is the class distribution? (i.e. how many instances of malignant (encoded 0) and how many benign (encoded 1)?)\n",
    "This function should return a Series of length 2 with integer values and index = ['malignant', 'benign']"
   ]
  },
  {
   "cell_type": "code",
   "execution_count": null,
   "metadata": {},
   "outputs": [],
   "source": [
    "#Your code here\n",
    "\n"
   ]
  },
  {
   "cell_type": "markdown",
   "metadata": {},
   "source": [
    "### Part 2, Q4  --  [7 pts]\n",
    "\n",
    "Split the DataFrame into X (the data) and y (the labels).\n",
    "\n",
    "This function should return a tuple of length 2: (X, y), where\n",
    "\n",
    "- X has shape (569, 30)\n",
    "- y has shape (569,).\n",
    "\n",
    "for more information about tuple refer to http://bagrow.com/ds1/whirlwindtourpython/07-Built-in-Data-Structures.html"
   ]
  },
  {
   "cell_type": "code",
   "execution_count": null,
   "metadata": {},
   "outputs": [],
   "source": [
    "#Your code here\n",
    "\n"
   ]
  },
  {
   "cell_type": "markdown",
   "metadata": {},
   "source": [
    "### Part 2, Q5  --  [7 pts]\n",
    "Plot the histogram of 'malignant' and 'benign'.\n",
    "\n",
    "Histogram is way to show the frequency of a set of continuous data. In this case, there are 2 labels ('malignant' and 'benign').The name of the labels will be in the x-axis and the frequency count of those labels will be in the y-axis.\n",
    "\n",
    "You can find more about Histogram here:\n",
    "\n",
    "https://statistics.laerd.com/statistical-guides/understanding-histograms.php"
   ]
  },
  {
   "cell_type": "code",
   "execution_count": null,
   "metadata": {},
   "outputs": [],
   "source": [
    "#Your code here\n",
    "\n"
   ]
  }
 ],
 "metadata": {
  "kernelspec": {
   "display_name": "Python 3",
   "language": "python",
   "name": "python3"
  },
  "language_info": {
   "codemirror_mode": {
    "name": "ipython",
    "version": 3
   },
   "file_extension": ".py",
   "mimetype": "text/x-python",
   "name": "python",
   "nbconvert_exporter": "python",
   "pygments_lexer": "ipython3",
   "version": "3.8.3"
  }
 },
 "nbformat": 4,
 "nbformat_minor": 2
}
