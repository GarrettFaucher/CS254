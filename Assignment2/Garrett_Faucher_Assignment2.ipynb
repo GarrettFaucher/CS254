{
 "cells": [
  {
   "cell_type": "markdown",
   "metadata": {},
   "source": [
    "# Getting Python\n",
    "\n",
    "\n",
    "For this course, we are going to use Jupyter notebook as our environment for developing Python code.\n",
    "refer to https://jupyter.readthedocs.io/en/latest/content-quickstart.html on the instructions how to install it, the easiest way is to install from Anaconda (https://www.anaconda.com/download/) website, make sure you install with Python 3.6.\n",
    "\n",
    "Also, it is good for the students who are not familiar with python (or they need a quick refreshment) to follow Jim Bagrow tutorial http://bagrow.com/ds1/whirlwindtourpython/00-Title.html. \n",
    "\n",
    "All the assignments to be written in Python 3.7 and can be run using Jupyter on one of the following Internet browsers (Chrome, Safari or Firefox), these are the browsers that officially supported by jupyter.\n",
    "\n",
    "<u> Note: for this assignment, submit your local copy of this page, running on IPython. Submit the file to Blackboard under Assignment2 using this file format:</u> <b>Yourfirstname_lastname_Assignment2.ipynb. Marks might be deducted if you do not follow the submission steps</b> \n",
    "\n",
    "#### <b>Deadline</b>: <u>09/29/2020 11:59 PM.</u>\n",
    "\n",
    "\n",
    "#### <font color='red'>NOTE: Please refer to the Ipython notebook named linearRegression.ipynb from class lecture. There are overlaps between that notebook and the assignment 2 </font>\n"
   ]
  },
  {
   "cell_type": "markdown",
   "metadata": {},
   "source": [
    "# Assignment 2"
   ]
  },
  {
   "cell_type": "markdown",
   "metadata": {
    "collapsed": true
   },
   "source": [
    "##### Always import the necessary libraries in the first cell as it is a good coding practice"
   ]
  },
  {
   "cell_type": "code",
   "execution_count": 1,
   "metadata": {},
   "outputs": [],
   "source": [
    "import os\n",
    "import numpy as np\n",
    "import pandas as pd\n",
    "import matplotlib.pyplot as plt\n",
    "\n",
    "%matplotlib inline"
   ]
  },
  {
   "cell_type": "markdown",
   "metadata": {},
   "source": [
    "# Assignment 2 -- Part 1(Logistic regression without regularization )\n",
    "\n",
    "In this exercise, you will implement logistic regression and apply it to the dataset named Iris.csv.\n",
    "\n",
    "In this dataset there are two continuous variables named \"PetalLengthCm\" and  and \"PetalWidthCm\". Depending on these two variables, the type of flower is assigned in the \"species\" column. Setosa is labeled as 0 and versicolor is labeled as 1. Your task will be to classifiy between these two types of flowers.  \n"
   ]
  },
  {
   "cell_type": "markdown",
   "metadata": {
    "collapsed": true
   },
   "source": [
    "### Part 1, Q1 -  [10 pts]\n",
    "\n",
    "1. [5 points] Load the data and split it into X(features vector) and Y(target/output vector).You can follow the way that has been shown in the class in the LinearRegression.ipynb. "
   ]
  },
  {
   "cell_type": "code",
   "execution_count": 2,
   "metadata": {},
   "outputs": [
    {
     "name": "stdout",
     "output_type": "stream",
     "text": [
      "(100, 3)\n",
      "(100, 1)\n"
     ]
    }
   ],
   "source": [
    "data = pd.read_csv(os.getcwd() + '/Iris.csv')\n",
    "\n",
    "X = data.loc[:, [\"Id\", \"PetalLengthCm\", \"PetalWidthCm\"]]\n",
    "X = data.drop(columns=['Id', 'Species'])\n",
    "Y = data.loc[:, [\"Species\"]]\n",
    "\n",
    "b = pd.DataFrame(np.ones((100,1)))\n",
    "X = pd.concat([b, X], axis=1)\n",
    "\n",
    "print (X.shape)\n",
    "print (Y.shape)"
   ]
  },
  {
   "cell_type": "markdown",
   "metadata": {},
   "source": [
    "2. [5 points] Visualize the data. \n",
    "For visualizing,PetalLengthCm will be in the X-axis and PetalWidthCm will be on the Y-axis. Put + (plus) for Setosa, and circle for versicolor."
   ]
  },
  {
   "cell_type": "code",
   "execution_count": 3,
   "metadata": {},
   "outputs": [
    {
     "data": {
      "text/plain": [
       "<matplotlib.axes._subplots.AxesSubplot at 0x19403c632b0>"
      ]
     },
     "execution_count": 3,
     "metadata": {},
     "output_type": "execute_result"
    },
    {
     "data": {
      "image/png": "[encoded data removed]",
      "text/plain": [
       "<Figure size 864x576 with 1 Axes>"
      ]
     },
     "metadata": {
      "needs_background": "light"
     },
     "output_type": "display_data"
    }
   ],
   "source": [
    "fig, ax = plt.subplots(figsize=(12,8))\n",
    "ax.scatter(data.PetalLengthCm[data.Species == 0], data.PetalWidthCm[data.Species == 0], marker=\"+\", label=\"Setosa\")\n",
    "ax.scatter(data.PetalLengthCm[data.Species == 1], data.PetalWidthCm[data.Species == 1], marker=\"o\", label=\"Versicolor\")\n",
    "ax.set_xlabel('PetalLengthCm')\n",
    "ax.set_ylabel('PetalWidthCm')\n",
    "ax.set_title('Petal Length Cm vs. Petal Width Cm')\n",
    "ax.legend(loc=2)\n",
    "\n",
    "ax"
   ]
  },
  {
   "cell_type": "markdown",
   "metadata": {},
   "source": [
    "### Part 1, Q2 -  [5 pts]\n",
    "\n",
    "Before you start with the implementation of the cost function and gradient descent algorithm for logistic Regression, at first implement the function \"sigmoid” that can be called by the rest of your program. Test it when you are finished. Try testing a few values by calling sigmoid(x). For large positive values of x, the sigmoid should be close to 1, while for large negative values, the sigmoid should be close to 0. Evaluating sigmoid(0) should give you exactly 0.5.\n",
    "The equation for sigma is (in vectorized format)\n",
    "\n",
    "![](images/H1.png)\n",
    "Here \n",
    "\n",
    "![](images/H2.png)\n",
    "\n",
    "The dimension of Z should be (100,1)"
   ]
  },
  {
   "cell_type": "code",
   "execution_count": 4,
   "metadata": {},
   "outputs": [
    {
     "data": {
      "text/plain": [
       "['x: -1.000 sigx:  0.269',\n",
       " 'x: -0.800 sigx:  0.310',\n",
       " 'x: -0.600 sigx:  0.354',\n",
       " 'x: -0.400 sigx:  0.401',\n",
       " 'x: -0.200 sigx:  0.450',\n",
       " 'x:  0.000 sigx:  0.500',\n",
       " 'x:  0.200 sigx:  0.550',\n",
       " 'x:  0.400 sigx:  0.599',\n",
       " 'x:  0.600 sigx:  0.646',\n",
       " 'x:  0.800 sigx:  0.690',\n",
       " 'x:  1.000 sigx:  0.731']"
      ]
     },
     "execution_count": 4,
     "metadata": {},
     "output_type": "execute_result"
    }
   ],
   "source": [
    "#Choose the parameters and return the value. This function will return a vector of Z dimension \n",
    "def sigmoid(Z):\n",
    "    return (1 / (1 + (np.exp(-Z))))\n",
    "\n",
    "\n",
    "#The following lines are for few test case check. The sigmoid function should be fine if you are passing this test cases.\n",
    "assert sigmoid(0) == 0.5, \"The sigmoid function is wrong.\"\n",
    "assert 1.1 > sigmoid(100)  > 0.9999, \"The sigmoid function is wrong.\"\n",
    "assert -0.1 < sigmoid(-100) < 0.0001, \"The sigmoid function is wrong.\"\n",
    "\n",
    "# visual inspection\n",
    "#This below line will help you to test your sigmoid function for different values between -1 and 1. \n",
    "#You can check your sigmoid function using the following line.\n",
    "list(\"x: %6.3f sigx: %6.3f\"% (x, sigx) for (sigx, x) in  zip(sigmoid(np.linspace(-1,1,11)), np.linspace(-1,1,11)))"
   ]
  },
  {
   "cell_type": "markdown",
   "metadata": {},
   "source": [
    "### Part 1, Q3 -  [10 pts]\n",
    "\n",
    "\n",
    "\n",
    "1.  [5 points] Implement cost function (calcLogRegressionCost) as detailed in the cell below.\n",
    "\n",
    "The vectorized equation for the cost function is given below as discussed in the course material.  \n",
    "\n",
    "![](images/J1.png)\n",
    "\n",
    "2.  [5 points] Implement gradient descent (logRegressionGradientDescent) as detailed in the cell below. \n",
    "\n",
    "The vectorized equation for gradient descent is given below: \n",
    "\n",
    "![](images/G1.png)\n",
    "\n",
    "\n",
    "\n",
    "Hint: Once you are done,  call your \"calcLogRegressionCost\" using the initial parameters of θ. You should see that the cost is about 0.693.\n",
    "\n",
    "Note: no need to add the regularization term for now. "
   ]
  },
  {
   "cell_type": "code",
   "execution_count": 5,
   "metadata": {},
   "outputs": [],
   "source": [
    "#You may change the number of parameters according to your wish for\n",
    "#all the funtions depending on your implementation.\n",
    "\n",
    "#This function will return the cost only.\n",
    "def calcLogRegressionCost(X, y, theta):\n",
    "    #X is the feature vector\n",
    "    #Y is the target vector/ output vector\n",
    "    #theta is the weight vector \n",
    "    \n",
    "    m, d = X.shape\n",
    "    h_theta = sigmoid(np.dot(X, theta))\n",
    "    return float(-1 * (np.sum(np.multiply(y, np.log(h_theta)) + np.multiply((1 - y), np.log(1 - h_theta))))/m)\n",
    "\n",
    "#This function will return the updated theta and loss over epochs \n",
    "def logRegressionGradientDescent(X, y, thetaInit, eta, epochs):\n",
    "    #X is the feature vector\n",
    "    #Y is the target vector/ output vector\n",
    "    #theta is the weight vector \n",
    "    #eta is the learning rate\n",
    "    #epochs is the steps you want to take.\n",
    "  \n",
    "    m, d = X.shape\n",
    "    theta = thetaInit.copy()\n",
    "    losses = np.zeros(epochs)\n",
    "    \n",
    "    for i in range(epochs):\n",
    "        gradient = (2/m) * (np.dot(X.T, (sigmoid(np.dot(X, theta)) - y)))\n",
    "        theta -= eta * gradient\n",
    "        losses[i] = calcLogRegressionCost(X, y, theta)\n",
    "    \n",
    "    return theta, losses"
   ]
  },
  {
   "cell_type": "code",
   "execution_count": 6,
   "metadata": {},
   "outputs": [
    {
     "name": "stdout",
     "output_type": "stream",
     "text": [
      "0.6931471805599453\n"
     ]
    }
   ],
   "source": [
    "#This part is for testing\n",
    "theta = np.zeros((X.shape[1], 1))\n",
    "print(calcLogRegressionCost(X, Y, theta)) # this should be about 0.693"
   ]
  },
  {
   "cell_type": "markdown",
   "metadata": {},
   "source": [
    "### Part 1, Q3 -  [10 pts]\n",
    "\n",
    "As you have the gradient decent algorithm implemented,\n",
    "\n",
    "1. [5 Points] Run the gradient descent algorithm to fit your parameters theta to the training set.\n"
   ]
  },
  {
   "cell_type": "code",
   "execution_count": 7,
   "metadata": {},
   "outputs": [
    {
     "name": "stdout",
     "output_type": "stream",
     "text": [
      "0.01248861689182234\n"
     ]
    }
   ],
   "source": [
    "eta =  0.05\n",
    "epochs = 5000\n",
    "theta, cost = logRegressionGradientDescent(X, Y, theta, eta, epochs)\n",
    "print(calcLogRegressionCost(X, Y, theta))"
   ]
  },
  {
   "cell_type": "markdown",
   "metadata": {},
   "source": [
    "2. [2 Points] Report optimal final θ."
   ]
  },
  {
   "cell_type": "code",
   "execution_count": 8,
   "metadata": {},
   "outputs": [
    {
     "name": "stdout",
     "output_type": "stream",
     "text": [
      "[[-8.6853308 ]\n",
      " [ 2.38484516]\n",
      " [ 3.62510853]]\n"
     ]
    }
   ],
   "source": [
    "optimal_theta = theta.copy()\n",
    "print(optimal_theta)"
   ]
  },
  {
   "cell_type": "markdown",
   "metadata": {},
   "source": [
    "\n",
    "3. [3 Points] Plot the cost vs the number of epochs. what is the best learning rate you choosed and why ?"
   ]
  },
  {
   "cell_type": "code",
   "execution_count": 9,
   "metadata": {},
   "outputs": [
    {
     "data": {
      "text/plain": [
       "Text(0.5, 1.0, 'Error vs. Training Epoch')"
      ]
     },
     "execution_count": 9,
     "metadata": {},
     "output_type": "execute_result"
    },
    {
     "data": {
      "image/png": "[encoded data removed]",
      "text/plain": [
       "<Figure size 864x576 with 1 Axes>"
      ]
     },
     "metadata": {
      "needs_background": "light"
     },
     "output_type": "display_data"
    }
   ],
   "source": [
    "fig, ax = plt.subplots(figsize=(12,8))\n",
    "ax.plot(np.arange(epochs), cost, 'r')\n",
    "ax.set_xlabel('Iterations')\n",
    "ax.set_ylabel('Cost')\n",
    "ax.set_title('Error vs. Training Epoch')"
   ]
  },
  {
   "cell_type": "markdown",
   "metadata": {},
   "source": [
    "### Part 1, Q4 -  [15 pts]\n",
    "At this point, you have the optimal theta.\n",
    "\n",
    "1. [4 Points] Implement the predict_proba function.\n"
   ]
  },
  {
   "cell_type": "code",
   "execution_count": 10,
   "metadata": {},
   "outputs": [],
   "source": [
    "def predict_proba(X,theta):\n",
    "    #you need to know the probability of a certain test sample falling in a certain class.\n",
    "    #For this you need a function which will give you the probability.\n",
    "    #This function should return a probability\n",
    "    \n",
    "    z = np.dot(X, theta)\n",
    "    return sigmoid(z)"
   ]
  },
  {
   "cell_type": "markdown",
   "metadata": {},
   "source": [
    "2. [3 Points] Suppose,the petal length is 2.0 and petal width is 0.3. Using the predict_proba function find  the probability of this sample being a Setosa."
   ]
  },
  {
   "cell_type": "code",
   "execution_count": 11,
   "metadata": {},
   "outputs": [
    {
     "ename": "ValueError",
     "evalue": "shapes (2,) and (3,1) not aligned: 2 (dim 0) != 3 (dim 0)",
     "output_type": "error",
     "traceback": [
      "\u001b[1;31m---------------------------------------------------------------------------\u001b[0m",
      "\u001b[1;31mValueError\u001b[0m                                Traceback (most recent call last)",
      "\u001b[1;32m<ipython-input-11-85029157b096>\u001b[0m in \u001b[0;36m<module>\u001b[1;34m\u001b[0m\n\u001b[0;32m      1\u001b[0m \u001b[0mtesting_sample\u001b[0m \u001b[1;33m=\u001b[0m \u001b[0mnp\u001b[0m\u001b[1;33m.\u001b[0m\u001b[0marray\u001b[0m\u001b[1;33m(\u001b[0m\u001b[1;33m[\u001b[0m\u001b[1;36m2.0\u001b[0m\u001b[1;33m,\u001b[0m \u001b[1;36m0.3\u001b[0m\u001b[1;33m]\u001b[0m\u001b[1;33m)\u001b[0m\u001b[1;33m\u001b[0m\u001b[1;33m\u001b[0m\u001b[0m\n\u001b[0;32m      2\u001b[0m \u001b[1;31m# looking for .3 or .4\u001b[0m\u001b[1;33m\u001b[0m\u001b[1;33m\u001b[0m\u001b[1;33m\u001b[0m\u001b[0m\n\u001b[1;32m----> 3\u001b[1;33m \u001b[0mprint\u001b[0m\u001b[1;33m(\u001b[0m\u001b[0mpredict_proba\u001b[0m\u001b[1;33m(\u001b[0m\u001b[0mtesting_sample\u001b[0m\u001b[1;33m,\u001b[0m \u001b[0mtheta\u001b[0m\u001b[1;33m)\u001b[0m\u001b[1;33m)\u001b[0m\u001b[1;33m\u001b[0m\u001b[1;33m\u001b[0m\u001b[0m\n\u001b[0m",
      "\u001b[1;32m<ipython-input-10-c1e0135580d8>\u001b[0m in \u001b[0;36mpredict_proba\u001b[1;34m(X, theta)\u001b[0m\n\u001b[0;32m      4\u001b[0m     \u001b[1;31m#This function should return a probability\u001b[0m\u001b[1;33m\u001b[0m\u001b[1;33m\u001b[0m\u001b[1;33m\u001b[0m\u001b[0m\n\u001b[0;32m      5\u001b[0m \u001b[1;33m\u001b[0m\u001b[0m\n\u001b[1;32m----> 6\u001b[1;33m     \u001b[0mz\u001b[0m \u001b[1;33m=\u001b[0m \u001b[0mnp\u001b[0m\u001b[1;33m.\u001b[0m\u001b[0mdot\u001b[0m\u001b[1;33m(\u001b[0m\u001b[0mX\u001b[0m\u001b[1;33m,\u001b[0m \u001b[0mtheta\u001b[0m\u001b[1;33m)\u001b[0m\u001b[1;33m\u001b[0m\u001b[1;33m\u001b[0m\u001b[0m\n\u001b[0m\u001b[0;32m      7\u001b[0m     \u001b[1;32mreturn\u001b[0m \u001b[0msigmoid\u001b[0m\u001b[1;33m(\u001b[0m\u001b[0mz\u001b[0m\u001b[1;33m)\u001b[0m\u001b[1;33m\u001b[0m\u001b[1;33m\u001b[0m\u001b[0m\n",
      "\u001b[1;32m<__array_function__ internals>\u001b[0m in \u001b[0;36mdot\u001b[1;34m(*args, **kwargs)\u001b[0m\n",
      "\u001b[1;31mValueError\u001b[0m: shapes (2,) and (3,1) not aligned: 2 (dim 0) != 3 (dim 0)"
     ]
    }
   ],
   "source": [
    "testing_sample = np.array([2.0, 0.3])\n",
    "# looking for .3 or .4\n",
    "print(predict_proba(testing_sample, theta))"
   ]
  },
  {
   "cell_type": "markdown",
   "metadata": {},
   "source": [
    "3. [8 Points] Plot the decision boundary with respect to the data. The plot shoud include the PetalLengthCm in the X-axis andPetalWidthCm in the Y-axis. Put + (plus) for Setosa, and circle for versicolor. The decision boundary should spearate between the classes using the optimal theta that you find in Part 1, Q3."
   ]
  },
  {
   "cell_type": "code",
   "execution_count": null,
   "metadata": {},
   "outputs": [],
   "source": [
    "x = np.linspace(data.PetalLengthCm.min(), data.PetalWidthCm.max(), 100)\n",
    "\n",
    "f = theta[0, 0] + (theta[1, 0] * x)\n",
    "\n",
    "fig, ax = plt.subplots(figsize=(12,8))\n",
    "ax.plot(x, f, 'r', label='Prediction')\n",
    "ax.scatter(data.PetalLengthCm[data.Species == 0], data.PetalWidthCm[data.Species == 0], marker=\"+\", label=\"Setosa\")\n",
    "ax.scatter(data.PetalLengthCm[data.Species == 1], data.PetalWidthCm[data.Species == 1], marker=\"o\", label=\"Versicolor\")\n",
    "ax.set_xlabel('PetalLengthCm')\n",
    "ax.set_ylabel('PetalWidthCm')\n",
    "ax.set_title('Petal Length Cm vs. Petal Width Cm')\n",
    "ax.legend(loc=2)\n",
    "\n",
    "ax"
   ]
  },
  {
   "cell_type": "markdown",
   "metadata": {},
   "source": [
    "# Assignment 2 -- Part 2 (Enhanced Logistic regression )\n",
    "\n",
    "Import and examine the dataset ex2data2.txt. There are two continuous independent variables in the data - “Test 1” and “Test 2”. Our prediction target is 0(did not passed the test) or 1(passsed the test) label, which is binary-valued.\n",
    "\n",
    "In this part of the Assignment, you will build a logistic regression model to predict whether a a sample is passed the test or not (a model that estimates the probability of being passed or not based on test 1 and test 2)"
   ]
  },
  {
   "cell_type": "markdown",
   "metadata": {},
   "source": [
    "### Part 2, Q1 -  [15 pts]\n",
    "\n",
    "1. [5 Points]  Load the data and visualize it.(You can follow the steps from part1, Q1)\n",
    "\n",
    "For visualizing,test 1 will be in the X-axis, test 2 will be on the Y-axis. Put + (plus) for passed, and circle for not passed."
   ]
  },
  {
   "cell_type": "code",
   "execution_count": null,
   "metadata": {},
   "outputs": [],
   "source": [
    "datafile1 = 'ex2data2.txt'\n",
    "cols = np.loadtxt(datafile1,delimiter=',',usecols=(0,1,2),unpack=True) #Read in comma separated data\n",
    "#Start you code from here\n",
    "\n"
   ]
  },
  {
   "cell_type": "markdown",
   "metadata": {},
   "source": [
    "\n",
    "Before going further, you will be implementing Ridge regularized gradient descent with its corresponding regularized cost function which will be needed at the end of the assignment.\n",
    "    \n",
    "\n",
    "2. [5 Points] Implement Ridge Regularized Logistic Regression cost function named calcLogRegressionCostR following the given equation.\n",
    "The equation is ![](images/G2.png)"
   ]
  },
  {
   "cell_type": "code",
   "execution_count": null,
   "metadata": {},
   "outputs": [],
   "source": [
    "#This function will return the ridge regularized cost only.\n",
    "def calcLogRegressionCostR(X, y, theta, alpha=0):\n",
    "    #X is the feature vector\n",
    "    #Y is the target vector/ output vector\n",
    "    #theta is the weight vector\n",
    "    #alpha is the regularization parameter\n",
    "    \n",
    "    m = X.shape[0]\n",
    "    h_theta = sigmoid(np.dot(X, theta))\n",
    "    cost = (-1/m) * \n",
    "    \n",
    "    return cost"
   ]
  },
  {
   "cell_type": "markdown",
   "metadata": {},
   "source": [
    "3. [5 Points] Implement logRegressionGradientDescentR . This should be ridge regularized. The equation is \n",
    "![](images/G3.png)"
   ]
  },
  {
   "cell_type": "code",
   "execution_count": null,
   "metadata": {},
   "outputs": [],
   "source": [
    "#This function will return the updated theta and loss over epochs by adding ridge regularization\n",
    "def logRegressionGradientDescentR(X, y, thetaInit, eta, alpha, epochs):\n",
    "    #X is the feature vector\n",
    "    #Y is the target vector/ output vector\n",
    "    #theta is the weight vector \n",
    "    #eta is the learning rate\n",
    "    #alpha is the regulirzation rate\n",
    "    #epochs is the steps you want to take.\n",
    "    \n",
    "    #Start you code from here\n",
    "    \n",
    "\n",
    "    return  \n",
    "\n",
    "    \n",
    "#This part is given for the testing purpose    \n",
    "eta = # put a number here, you can use the one from part 1\n",
    "alpha = # put a number here, you can try different options, think of small values\n",
    "epochs = # put a number here, you can use the one from part 1\n",
    "initial_theta = np.zeros((X.shape[1],1))  \n",
    "\n",
    "theta, mincost = logRegressionGradientDescentR(X,Y,initial_theta,eta, alpha, epochs)\n",
    "print(calcLogRegressionCostR(X,Y,initial_theta,alpha))\n",
    "print(theta)"
   ]
  },
  {
   "attachments": {
    "polyn6.png": {
     "image/png": "[encoded data removed]"
    }
   },
   "cell_type": "markdown",
   "metadata": {},
   "source": [
    "### Part 2, Q2 -  [20 pts]\n",
    "As you may have noticed in Part 2, Q1 plotting, the data are not linearly separable. When data are not linearly separable, one way to fit the data better is to create more features from each data point.Mapping data to polynomial terms is one of the simplest way.  \n",
    "\n",
    "1. [5 Points] Map the features into all polynomial terms of x1 and x2 up to the six power. You may use PolynomialFeatures from scikit learn.\n",
    "\n",
    "![polyn6.png](attachment:polyn6.png)\n"
   ]
  },
  {
   "cell_type": "code",
   "execution_count": null,
   "metadata": {},
   "outputs": [],
   "source": [
    "#Start you code from here"
   ]
  },
  {
   "cell_type": "markdown",
   "metadata": {},
   "source": [
    "2. [2 Points] Report optimal final θ on the polynominal features using logRegressionGradientDescent (NOT the regularized one).\n",
    "\n",
    "Note: There should be 28 features as your are taking power of 6."
   ]
  },
  {
   "cell_type": "code",
   "execution_count": null,
   "metadata": {
    "scrolled": true
   },
   "outputs": [],
   "source": [
    "#Start you code from here\n"
   ]
  },
  {
   "cell_type": "markdown",
   "metadata": {},
   "source": [
    "3. [3 Points] Plot the cost with the number of epochs."
   ]
  },
  {
   "cell_type": "code",
   "execution_count": null,
   "metadata": {},
   "outputs": [],
   "source": [
    "#Start you code from here"
   ]
  },
  {
   "cell_type": "markdown",
   "metadata": {},
   "source": [
    "4. [5 Points] Now, try to plot the decision boundary of the polynominal features.Use  logRegressionGradientDescentR for plotting the decision boundary."
   ]
  },
  {
   "cell_type": "code",
   "execution_count": null,
   "metadata": {},
   "outputs": [],
   "source": [
    "#Start you code from here"
   ]
  },
  {
   "cell_type": "markdown",
   "metadata": {},
   "source": [
    "  5. [5 Points] What is you comment about the decision boundary in the immediate previous question ? Is it decision boundary behaving as expected ?"
   ]
  },
  {
   "cell_type": "markdown",
   "metadata": {},
   "source": [
    "### Part 2, Q3 -  [15 pts]\n",
    "\n",
    " Regularization is an important way to fit the data more accurately. In the next part try different fours regularization value and plot the decision boundary for every of them. The values might be a mixture of small, large and medium values.\n",
    "\n",
    "What is your comment about decision boundary for different regularization values ?How regularization is effecting ? Are they reducing overfitting ?\n",
    "\n",
    "Note: Use regularized version of logRegressionGradientDescentR and calcLogRegressionCostR for decision boundary plotting."
   ]
  },
  {
   "cell_type": "code",
   "execution_count": null,
   "metadata": {},
   "outputs": [],
   "source": [
    "#Start you code from here\n",
    "    "
   ]
  }
 ],
 "metadata": {
  "kernelspec": {
   "display_name": "Python 3",
   "language": "python",
   "name": "python3"
  },
  "language_info": {
   "codemirror_mode": {
    "name": "ipython",
    "version": 3
   },
   "file_extension": ".py",
   "mimetype": "text/x-python",
   "name": "python",
   "nbconvert_exporter": "python",
   "pygments_lexer": "ipython3",
   "version": "3.8.3"
  }
 },
 "nbformat": 4,
 "nbformat_minor": 2
}
